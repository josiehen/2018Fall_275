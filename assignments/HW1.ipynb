{
 "cells": [
  {
   "cell_type": "markdown",
   "metadata": {},
   "source": [
    "## Code submission\n",
    "\n",
    "If you would like to use Jupyter (perhaps the easiest way, this replaces the old IJuliaNotebook), just submit the notebook file. Name it as p(Homework#).ipynb.  For instance, for homework 1, name it as p1.ipynb. I suggest everyone use the latest version of Julia (current stable version **v0.7.0**. Please **DO NOT** use v1.0.0 **unless you know what you are doing**).  \n",
    "\n",
    "If you use MATLAB or Julia/Python (not the notebook), name your main program as p(Homework#)_(Problem#).m. For instance, for homework 1, problem 2, name it as p1_2.m (or p1_2.jl,p1_2.py). \n",
    "\n",
    "For proof-related problems, type your solution using **LaTeX (no other format is accepted)**. You do not need to write down every step of the derivation, but make sure the logic is clear.  \n",
    "\n",
    "For implementation based problems, the problem description may not include all the information for the answer to be uniquely defined. For instance, your answer might depend on the choice of the mesh size. This is OK.\n",
    "\n",
    "E-mail the codes above, and **any supporting files** for the homework to bCourses\n",
    "\n",
    "You can **either** name it as\n",
    "\n",
    "lastname_firstname_1.ipynb (if you **only** have a notebook file)\n",
    "\n",
    "**or**\n",
    "\n",
    "lastname_firstname_1.zip (if you have **more than one** files)"
   ]
  },
  {
   "cell_type": "markdown",
   "metadata": {},
   "source": [
    "$$\n",
    "\\newcommand{\\bvec}[1]{{\\boldsymbol #1}}\n",
    "\\newcommand{\\norm}[1]{{\\lVert#1\\rVert}}\n",
    "\\newcommand{\\bra}[1]{{\\langle#1\\rvert}}\n",
    "\\newcommand{\\ket}[1]{{\\lvert#1\\rangle}}\n",
    "\\newcommand{\\RR}{\\mathbb{R}}\n",
    "$$\n",
    "\n",
    "## Problem 1\n",
    "\n",
    "\n",
    "\n",
    "1) Book Chap 1. HW4\n",
    "\n",
    "2) Let $\\norm{\\bvec{n}}=1$ be a unit vector in $\\RR^3$, and $\\theta\\in\\RR$. Prove that\n",
    "\n",
    "$$e^{i \\theta \\bvec{n}\\cdot\\bvec{\\sigma}} = \\cos(\\theta) I + i \\sin(\\theta) \\bvec{n}\\cdot\\bvec{\\sigma}$$"
   ]
  },
  {
   "cell_type": "markdown",
   "metadata": {},
   "source": []
  },
  {
   "cell_type": "markdown",
   "metadata": {},
   "source": [
    "## Problem 2\n",
    "\n",
    "The one dimensional quantum Ising model with the transverse magnetic field has the following Hamiltonian\n",
    "\n",
    "$$\\hat{H} = -\\sum_{j=1}^{N-1} \\sigma_j^z \\sigma_{j+1}^z - g \\sum_{j=1}^N \\sigma_j^x.$$ \n",
    "\n",
    "Here the spin operator \n",
    "\n",
    "$$\\sigma_j^z = I \\otimes \\cdots \\otimes I\\otimes  \\sigma^z \\otimes I\\otimes \\cdots \\otimes I$$\n",
    "\n",
    "where $\\sigma^z$ appears at the $j$-th position.  $\\sigma_j^x,\\sigma_j^y$ are defined similarly.\n",
    "\n",
    "For $N=4$, write a code to express $\\hat{H}$ as a matrix. Find the ground state energy with respect to $g\\in [-1,1]$.\n",
    "\n",
    "**Hint**: In the row-major ordering (i.e. the last index is looped over first), the *matricized* representation of $A\\otimes B$ can be implemented as a matrix using  `kron(A,B)`. Similarly $A\\otimes B \\otimes C$ can be implemented as `kron(A,kron(B,C))`."
   ]
  },
  {
   "cell_type": "code",
   "execution_count": null,
   "metadata": {},
   "outputs": [],
   "source": [
    "using LinearAlgebra\n",
    "\n",
    "σ_x = [0 1;1 0]; σ_y=[0 -im;im 0]; σ_z=[1 0; 0 -1]; e2 = [1 0; 0 1];\n",
    "\n",
    "\n",
    "function Ham_spin(N,g)\n",
    "    # Write a function to return the Hamiltonian for a given g\n",
    "    \n",
    "    return H\n",
    "end"
   ]
  },
  {
   "cell_type": "code",
   "execution_count": null,
   "metadata": {},
   "outputs": [],
   "source": [
    "Npoint = 20\n",
    "g_vec = LinRange(-1.0,1.0,Npoint)\n",
    "energy_vec = zeros(Npoint)\n",
    "\n",
    "for l = 1 : Npoint\n",
    "    H = Ham_spin(N,g_vec[l])\n",
    "    energy_vec[l] = eigvals(H)[1]\n",
    "end\n",
    "\n",
    "using PyPlot\n",
    "\n",
    "figure(1,figsize=(5,5))\n",
    "plot(g_vec,energy_vec)\n",
    "xlabel(L\"g\")\n",
    "ylabel(L\"E(g)\")\n"
   ]
  },
  {
   "cell_type": "markdown",
   "metadata": {},
   "source": [
    "## Problem 3\n",
    "\n",
    "Define the matrix\n",
    "\n",
    "$$ A = \\begin{bmatrix} 0 & 1 \\\\ 0 & 0 \\end{bmatrix}, \\quad A^{\\dagger} = \\begin{bmatrix} 0 & 0 \\\\ 1 & 0 \\end{bmatrix}.$$\n",
    "\n",
    "1) Write $A,A^{\\dagger}$ using linear combinations of Pauli matrices.\n",
    "\n",
    "For an $N$-site system, the creation operator is defined as\n",
    "\n",
    "$$c_j^{\\dagger} = \\sigma_z\\otimes\\cdots \\otimes \\sigma_z \\otimes A^{\\dagger} \\otimes I\\otimes \\cdots\\otimes I.$$\n",
    "\n",
    "The annihilation operator is defined as\n",
    "\n",
    "$$c_j = \\sigma_z\\otimes\\cdots \\otimes \\sigma_z \\otimes A \\otimes I\\otimes \\cdots\\otimes I.$$\n",
    "\n",
    "Here $A^{\\dagger},A$ appear in the $j$-th position, respectively.  \n",
    "\n",
    "2) For $N=2$, consider the following Hamiltonian\n",
    "\n",
    "$$\\hat{H} = -c_1^{\\dagger} c_2 - c_2^{\\dagger} c_1$$\n",
    "\n",
    "Compute its ground state energy.  Verify that this is the smallest eigenvalue of the matrix\n",
    "\n",
    "$$h = \\begin{bmatrix} 0 & -1 \\\\ -1 & 0 \\end{bmatrix}$$\n",
    "\n",
    "**Think**: Does the dimension of $\\hat{H}$ and $h$ even match?\n",
    "\n",
    "3) Consider the following Hubbard model\n",
    "\n",
    "$$\\hat{H} = -c_1^{\\dagger} c_3 -c_3^{\\dagger} c_1 - c_2^{\\dagger} c_4 -c_4^{\\dagger} c_2 + U c_1^{\\dagger} c_1 c_2^{\\dagger} c_2 + U c_3^{\\dagger} c_3 c_4^{\\dagger} c_4$$\n",
    "\n",
    "Plot the ground state energy as a function of $U\\in [0,5]$."
   ]
  },
  {
   "cell_type": "code",
   "execution_count": null,
   "metadata": {},
   "outputs": [],
   "source": [
    "using LinearAlgebra\n",
    "\n",
    "σ_x = [0 1;1 0]; σ_y=[0 -im;im 0]; σ_z=[1 0; 0 -1]; e2 = [1 0; 0 1]; a2 = [0 1;0 0]\n",
    "\n"
   ]
  },
  {
   "cell_type": "code",
   "execution_count": null,
   "metadata": {},
   "outputs": [],
   "source": [
    "function Ham_Hubbard(U)\n",
    "    # Write a function to return Hamiltonian for given U, just for this 4x4 model\n",
    "    \n",
    "    return H\n",
    "end\n",
    "\n",
    "Npoint = 50\n",
    "U_vec = LinRange(0,5.0,Npoint)\n",
    "energy_vec = zeros(Npoint)\n",
    "\n",
    "for l = 1 : Npoint\n",
    "    H = Ham_Hubbard(U_vec[l])\n",
    "    energy_vec[l] = eigvals(H)[1]\n",
    "end\n",
    "\n",
    "using PyPlot\n",
    "\n",
    "figure(1,figsize=(5,5))\n",
    "plot(U_vec,energy_vec)\n",
    "xlabel(L\"U\")\n",
    "ylabel(L\"E(U)\")"
   ]
  }
 ],
 "metadata": {
  "kernelspec": {
   "display_name": "Julia 0.7.0",
   "language": "julia",
   "name": "julia-0.7"
  },
  "language_info": {
   "file_extension": ".jl",
   "mimetype": "application/julia",
   "name": "julia",
   "version": "0.7.0"
  }
 },
 "nbformat": 4,
 "nbformat_minor": 2
}
