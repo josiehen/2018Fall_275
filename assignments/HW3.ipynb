{
 "cells": [
  {
   "cell_type": "markdown",
   "metadata": {},
   "source": [
    "## Code submission\n",
    "\n",
    "If you would like to use Jupyter (perhaps the easiest way, this replaces the old IJuliaNotebook), just submit the notebook file. Name it as p(Homework#).ipynb.  For instance, for homework 1, name it as p1.ipynb. I suggest everyone use the latest version of Julia (current stable version **v0.7.0**. Please **DO NOT** use v1.0.0 **unless you know what you are doing**).  \n",
    "\n",
    "If you use MATLAB or Julia/Python (not the notebook), name your main program as p(Homework#)_(Problem#).m. For instance, for homework 1, problem 2, name it as p1_2.m (or p1_2.jl,p1_2.py). \n",
    "\n",
    "For proof-related problems, type your solution using **LaTeX (no other format is accepted)**. You do not need to write down every step of the derivation, but make sure the logic is clear.  \n",
    "\n",
    "For implementation based problems, the problem description may not include all the information for the answer to be uniquely defined. For instance, your answer might depend on the choice of the mesh size. This is OK.\n",
    "\n",
    "E-mail the codes above, and **any supporting files** for the homework to bCourses\n",
    "\n",
    "You can **either** name it as\n",
    "\n",
    "lastname_firstname_1.ipynb (if you **only** have a notebook file)\n",
    "\n",
    "**or**\n",
    "\n",
    "lastname_firstname_1.zip (if you have **more than one** files)"
   ]
  },
  {
   "cell_type": "markdown",
   "metadata": {},
   "source": [
    "## Important notice\n",
    "\n",
    "1. This homework can be finished by a single person or a group of **up to THREE people**. If this is a group, then it should involve people from **at least TWO different departments**. (You need to fill the box below)  Each team only needs to submit **ONE copy** of the report (any team member can submit and the scores will be the same for all team members).  It is your responsibility to distribute the work relatively evenly within the team. \n",
    "\n",
    "2. Everyone (group) needs to work on Problem 1, 2, 3 and select **one question** from Problem 4a or 4b.  (You are welcome to do both..).\n",
    "\n",
    "3. Optional questions do not count towards the grades. It is up to you to do all, one or none of them.\n",
    "\n",
    "4. Unless otherwise specified, you can choose whatever parameters and forms for the Coulomb interaction, pseudopotential etc that you think are \"physical\". One of the points of doing these exercises is to try to convince you that physical details and paramters only matter **to some extent** (they still matter!)"
   ]
  },
  {
   "cell_type": "markdown",
   "metadata": {},
   "source": [
    "(**Your cool group name**)\n",
    "\n",
    "**Last1, First1, Department1**\n",
    "\n",
    "**Last2, First2, Department2**\n",
    "\n",
    ".."
   ]
  },
  {
   "cell_type": "markdown",
   "metadata": {},
   "source": [
    "$$\n",
    "\\newcommand{\\bvec}[1]{{\\boldsymbol #1}}\n",
    "\\newcommand{\\norm}[1]{{\\lVert#1\\rVert}}\n",
    "\\newcommand{\\bra}[1]{{\\langle#1\\rvert}}\n",
    "\\newcommand{\\ket}[1]{{\\lvert#1\\rangle}}\n",
    "\\newcommand{\\RR}{\\mathbb{R}}\n",
    "$$\n",
    "\n",
    "## Problem 1\n",
    "\n",
    "[Book] 3.5 \n",
    "\n"
   ]
  },
  {
   "cell_type": "markdown",
   "metadata": {},
   "source": []
  },
  {
   "cell_type": "markdown",
   "metadata": {},
   "source": [
    "## Problem 2\n",
    "\n",
    "Use the one dimensional model for the H$_2$ molecule, evaluate the spin-restricted MP2 energy with respect to the bond length.\n",
    "\n",
    "Reference:\n",
    "\n",
    "http://sirius.chem.vt.edu/wiki/doku.php?id=crawdad:programming:project4\n",
    "\n",
    "http://sirius.chem.vt.edu/~crawdad/programming/mp2.pdf\n",
    "\n"
   ]
  },
  {
   "cell_type": "code",
   "execution_count": null,
   "metadata": {},
   "outputs": [],
   "source": []
  },
  {
   "cell_type": "markdown",
   "metadata": {},
   "source": [
    "## Problem 3\n",
    "\n",
    "Use the one dimensional model for the H$_2$ molecule, evaluate the spin-restricted excitation spectrum (i.e. the excited state eigenvalues $\\omega$) by solving the Casida equation. \n",
    "\n",
    "Reference: \n",
    "\n",
    "[Book] 3.8\n"
   ]
  },
  {
   "cell_type": "code",
   "execution_count": null,
   "metadata": {},
   "outputs": [],
   "source": []
  },
  {
   "cell_type": "markdown",
   "metadata": {},
   "source": [
    "## Problem 4a\n",
    "\n",
    "Use the one dimensional model for the H$_2$ molecule, evaluate the spin-restricted coupled cluster energy with doubles (CCD) with respect to the bond length.\n",
    "\n",
    "Reference:\n",
    "\n",
    "http://sirius.chem.vt.edu/wiki/doku.php?id=crawdad:programming:project5\n",
    "\n",
    "http://sirius.chem.vt.edu/wiki/lib/exe/fetch.php?media=crawdad:programming:jcp_94_4334_1991.pdf\n",
    "\n",
    "Note: \n",
    "\n",
    "1. The paper in the reference above uses the formula for CCSD. In order to get the CCD equation, you can set the singles amplitutde (i.e. $t_{i}^{a}$) to zero. Another way to obtain the CCD equation is to use the note provided in the lecture (which uses spin-orbital instead of spatial orbital).\n",
    "\n",
    "2. Using Einstein summation is the simplest way to implement the tensor contraction. However, Julia's Einstein summation module is out-of-date. So python is perhaps a better choice for this problem.\n",
    "\n",
    "3. In order to solve the second order equation with respect to the amplitudes (called the Riccati equation), the simplest way is perhaps simple mixing or DIIS. "
   ]
  },
  {
   "cell_type": "code",
   "execution_count": null,
   "metadata": {},
   "outputs": [],
   "source": []
  },
  {
   "cell_type": "markdown",
   "metadata": {},
   "source": [
    "## Problem 4b\n",
    "\n",
    "Modify the finite system DMRG code provided in the lecture to solve a one-dimensional Hubbard model with $10$ sites.  \n",
    "\n",
    "$$H=-t\\sum_{i=1}^{L-1} \\sum_{\\sigma} \\left(c_{i,\\sigma}^{\\dagger} c_{i+1,\\sigma} + h.c. \\right) + \\sum_{i=1}^L U n_{i,\\uparrow} n_{i,\\downarrow} - \\mu (n_{i,\\uparrow}+n_{i,\\downarrow}).$$\n",
    "\n",
    "You can use the parameters $(t=-1, U=0.5, \\mu=0)$. The reference ground state energy is $-10.8564601187$.\n",
    "\n",
    "\n",
    "Note: \n",
    "\n",
    "1) You can validate the correctness of your code by setting $U=0$, and the energy should agree with that obtained from diagonalizing the quadratic part. \n",
    "\n",
    "2) Due to the length of the code, you may want to write a separate Julia / python code instead of using the notebook directly.\n",
    "\n",
    "3) Some useful convention:\n",
    "\n",
    "- Each site has dimension 4, with the convention following the Kronecker product: spin up $\\otimes$ spin down, i.e. the spin down occupies the inner dimension (row-major)\n",
    "\n",
    "- For creation operators $c_{i,\\sigma}^\\dagger$, larger $i$ occupies the inner dimension (i.e. row-major, consistent with Kronecker product)\n",
    "\n",
    "- The Jordan-Wigner transformation is\n",
    "\n",
    "$$c_{i,\\sigma} = \\sigma_z\\otimes\\cdots \\otimes \\sigma_z \\otimes A_{\\sigma} \\otimes I\\otimes \\cdots\\otimes I,$$\n",
    "\n",
    "i.e. the pairity accumulates towards the left direction. This means the convention for creating a determinant is e.g. $c_{1,\\sigma}^{\\dagger}c_{2,\\sigma}^{\\dagger}c_{3,\\sigma}^{\\dagger}\\vert 0\\rangle$.\n",
    "\n",
    "After the JW transformation, the 1D Hubbard model becomes again a local Hamiltonian\n",
    "\n",
    "$$H=-\\sum_{i=1}^{N-1} \\sum_{\\sigma} \\left[(a_{i,\\sigma}^{\\dagger} \\sigma^{z,\\uparrow,\\downarrow}_{i}) a_{i+1,\\sigma} + (\\sigma^{z,\\uparrow,\\downarrow}_{i} a_{i,\\sigma}) a_{i+1,\\sigma}^{\\dagger}  \\right]+  \\sum_{i=1}^L U n_{i,\\uparrow} n_{i,\\downarrow} - \\mu (n_{i,\\uparrow}+n_{i,\\downarrow}) n_{i,\\downarrow}.$$\n",
    "\n",
    "Here \n",
    "\n",
    "$$a_{i,\\sigma} =  I\\otimes \\cdots\\otimes I \\otimes A_{\\sigma} \\otimes I\\otimes \\cdots\\otimes I$$\n",
    "$$a^{\\dagger}_{i,\\sigma} =  I\\otimes \\cdots\\otimes I \\otimes A^{\\dagger}_{\\sigma} \\otimes I\\otimes \\cdots\\otimes I$$\n",
    "$$\\sigma^{z,\\uparrow,\\downarrow}_{i} = I\\otimes \\cdots\\otimes I \\otimes \\sigma^{z,\\uparrow,\\downarrow} \\otimes I\\otimes \\cdots\\otimes I$$\n",
    "\n",
    "are the bosonic annihilation and creation operator and commute (hence note the reversed order in the term $(\\sigma^{z,\\uparrow,\\downarrow}_{i} a_{i,\\sigma}) a_{i+1,\\sigma}^{\\dagger}$. This is OK since operators on different sites now commute), while the definition of $n_{i,\\sigma}$ are the same.\n",
    "\n",
    "4) Some references (you do not necessarily need to refer to these)\n",
    "\n",
    "    Eric Jeckelmann, Density-Matrix Renormalization Group Algorithms, 2008\n",
    "\n",
    "as well as the implementation from\n",
    "\n",
    "https://simple-dmrg.readthedocs.io/en/latest/\n",
    "\n",
    "https://dmrg101-tutorial.readthedocs.io/en/latest/index.html\n",
    "\n",
    "https://github.com/Andrew-Shen/DMRG/tree/master/DMRG-Hubbard\n"
   ]
  },
  {
   "cell_type": "code",
   "execution_count": null,
   "metadata": {},
   "outputs": [],
   "source": []
  }
 ],
 "metadata": {
  "kernelspec": {
   "display_name": "Julia 0.7.0",
   "language": "julia",
   "name": "julia-0.7"
  },
  "language_info": {
   "file_extension": ".jl",
   "mimetype": "application/julia",
   "name": "julia",
   "version": "0.7.0"
  }
 },
 "nbformat": 4,
 "nbformat_minor": 2
}
