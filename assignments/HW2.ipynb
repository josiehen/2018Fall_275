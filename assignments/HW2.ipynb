{
 "cells": [
  {
   "cell_type": "markdown",
   "metadata": {},
   "source": [
    "## Code submission\n",
    "\n",
    "If you would like to use Jupyter (perhaps the easiest way, this replaces the old IJuliaNotebook), just submit the notebook file. Name it as p(Homework#).ipynb.  For instance, for homework 1, name it as p1.ipynb. I suggest everyone use the latest version of Julia (current stable version **v0.7.0**. Please **DO NOT** use v1.0.0 **unless you know what you are doing**).  \n",
    "\n",
    "If you use MATLAB or Julia/Python (not the notebook), name your main program as p(Homework#)_(Problem#).m. For instance, for homework 1, problem 2, name it as p1_2.m (or p1_2.jl,p1_2.py). \n",
    "\n",
    "For proof-related problems, type your solution using **LaTeX (no other format is accepted)**. You do not need to write down every step of the derivation, but make sure the logic is clear.  \n",
    "\n",
    "For implementation based problems, the problem description may not include all the information for the answer to be uniquely defined. For instance, your answer might depend on the choice of the mesh size. This is OK.\n",
    "\n",
    "E-mail the codes above, and **any supporting files** for the homework to bCourses\n",
    "\n",
    "You can **either** name it as\n",
    "\n",
    "lastname_firstname_1.ipynb (if you **only** have a notebook file)\n",
    "\n",
    "**or**\n",
    "\n",
    "lastname_firstname_1.zip (if you have **more than one** files)"
   ]
  },
  {
   "cell_type": "markdown",
   "metadata": {},
   "source": [
    "## Important notice\n",
    "\n",
    "1. This homework can be finished by a single person or a group of **up to three people**. If this is a group, then it should involve people from **at least two different departments**. (You need to fill the box below)  Each team only needs to submit one copy of the homework (any team member can submit and the scores will be the same for all team members). So it is your responsibility to distribute the work relatively evenly within the team.\n",
    "\n",
    "2. Everyone (group) needs to work on Problem 1, 2, and select **one question** from Problem 3a or 3b.  (You are welcome to do both 3a and 3b..).\n",
    "\n",
    "3. Optional questions do not count towards the grades. It is up to you to do all, one or none of them.\n",
    "\n",
    "4. Unless otherwise specified, you can choose whatever parameters and forms for the Coulomb interaction, pseudopotential etc that you think are \"physical\". One of the points of doing these exercises is to try to convince you that physical details and parameters only matter **to some extent** (they still matter!)"
   ]
  },
  {
   "cell_type": "markdown",
   "metadata": {},
   "source": [
    "(**Your cool group name**)\n",
    "\n",
    "**Last1, First1, Department1**\n",
    "\n",
    "**Last2, First2, Department2**\n",
    "\n",
    ".."
   ]
  },
  {
   "cell_type": "markdown",
   "metadata": {},
   "source": [
    "$$\n",
    "\\newcommand{\\bvec}[1]{{\\boldsymbol #1}}\n",
    "\\newcommand{\\norm}[1]{{\\lVert#1\\rVert}}\n",
    "\\newcommand{\\bra}[1]{{\\langle#1\\rvert}}\n",
    "\\newcommand{\\ket}[1]{{\\lvert#1\\rangle}}\n",
    "\\newcommand{\\RR}{\\mathbb{R}}\n",
    "$$\n",
    "\n",
    "## Problem 1\n",
    "\n",
    "[Book] \n",
    "\n",
    "1) Exercise 2.5\n",
    "\n",
    "2) Exercise 2.12"
   ]
  },
  {
   "cell_type": "markdown",
   "metadata": {},
   "source": []
  },
  {
   "cell_type": "markdown",
   "metadata": {},
   "source": [
    "## Problem 2\n",
    "\n",
    "Write down a one dimensional model for the H$_2$ molecule. \n",
    "\n",
    "1. Solve this model by direct diagonalization in $\\RR^2$ (as in the example of the He atom). Plot the total energy $E(R)$ with respect to the distance of the two H atoms (called the bond length, denoted by $R$). The range of the bond length should include the equilibrium configuration (i.e. the configuration corresponding to the minimum of $E(R)$), but also extends to sufficiently large distance so that RHF fails (see below). \n",
    "\n",
    "2. Follow 1, plot $S(R)=\\langle\\psi(R)\\vert (\\bvec{S}^{\\text{tot}})^2\\vert\\psi(R)\\rangle$ with respect to the bond length $R$. Here $\\psi(R)$ is the electronic ground state, and $(\\bvec{S}^{\\text{tot}})^2$ is the square of the magnitude of the total spin operator.\n",
    "\n",
    "3. Plot the curves $E(R)$ and $S(R)$ using the RHF approximation.\n",
    "\n",
    "4. Plot the curves $E(R)$ and $S(R)$ using the UHF approximation.\n",
    "\n",
    "5. (Optional, and if you know second quantization already) Obtain the best fit of the energy curve $E(R)$ obtained from 1 using a Hubbard dimer model (e.g. you can use a fixed value $U$, and adjust $t(R)$ as well as a model for the ion-ion repulsion $E_{\\text{II}}(R)$). Can you obtain qualitatively similar results when you apply RHF and UHF to this Hubbard dimer model? \n",
    "\n",
    "(Reference: [CFS15](https://github.com/lin-lin/2018Fall_275/blob/master/others/CFS15.pdf))\n",
    "\n"
   ]
  },
  {
   "cell_type": "code",
   "execution_count": null,
   "metadata": {},
   "outputs": [],
   "source": []
  },
  {
   "cell_type": "markdown",
   "metadata": {},
   "source": [
    "## Problem 3a\n",
    "\n",
    "1. Write a 1D KSDFT code (spin-restricted) for an infinite hydrogen chain, described by a periodic supercell with 10 atoms in the cell. You may neglect the exchange-correlation term (but keeping the Hartree-term). Show the convergence of the total energy with respect to the refinement of your spatial discretization.\n",
    "\n",
    "2. Perform geometry optimization to find the equilibrium distance between the hydrogen atoms.\n",
    "\n",
    "3. Solve the 10 atom example using a density matrix based algorithm. The requirement is that **no eigenvalue or eigenfunction ** should ever be computed throughout the process.\n",
    "\n",
    "4. (Optional 1) Use sparse linear algebra and iterative methods, make your code efficient enough to handle a supercell with 100 atoms. The length of the supercell should be proportional to the number of atoms.  How does the HOMO-LUMO gap depend on the number of atoms in the supercell?\n",
    "\n",
    "5. (Optional 2) Use the k-point sampling technique, solve the example with 100 atoms by restricting to a unit cell with only two hydrogen atoms.  Note that if you choose the right Monkhorst-Pack grid, the result should match **exactly** with that obtained from a supercell calculation."
   ]
  },
  {
   "cell_type": "code",
   "execution_count": null,
   "metadata": {},
   "outputs": [],
   "source": []
  },
  {
   "cell_type": "markdown",
   "metadata": {},
   "source": [
    "## Problem 3b\n",
    "\n",
    "1. Write a 3D KSDFT code (spin-restricted) with the real Coulomb potential, without pseudopotential approximation, and with LDA exchange-correlation energy given by the [Dirac exchange energy](http://cmt.dur.ac.uk/sjc/thesis_ppr/node7.html).\n",
    "\n",
    "**Hint:** If you feel scared by this, watch the Youtube video [DFT code in one hour with Matlab](https://www.youtube.com/watch?v=bW44gCulrvI). If you are not scared at all, it does not hurt to watch it either to make you feel more confident.\n",
    "\n",
    "2. Use the code above to solve the H2 molecule in 3D. Plot the total energy $E(R)$ with respect to the bond length $R$, ranging from $0.5$ Bohr to $4$ Bohr. \n",
    "\n",
    "3. At the equilibrium bond length, show the convergence of the total energy with respect to the refinement of your spatial discretization. \n",
    "\n",
    "**Hint:** DO NOT expect the curve to look too nice due to all the singularities involved!\n",
    "\n",
    "3. (Optional) Use the code above to solve the benzene molecule in 3D.  What if you plot the electron density corresponding to the highest 3 occupied orbitals? Do they look like px,py,pz orbitals, or something else? \n",
    "\n",
    "**Hint:** The shape of the density should be responsible for the [$\\pi$ bonds](https://www.masterorganicchemistry.com/2017/05/05/the-pi-molecular-orbitals-of-benzene/) of the benzene molecule.\n"
   ]
  },
  {
   "cell_type": "code",
   "execution_count": null,
   "metadata": {},
   "outputs": [],
   "source": []
  }
 ],
 "metadata": {
  "kernelspec": {
   "display_name": "Julia 0.7.0",
   "language": "julia",
   "name": "julia-0.7"
  },
  "language_info": {
   "file_extension": ".jl",
   "mimetype": "application/julia",
   "name": "julia",
   "version": "0.7.0"
  }
 },
 "nbformat": 4,
 "nbformat_minor": 2
}
